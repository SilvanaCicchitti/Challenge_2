{
  "nbformat": 4,
  "nbformat_minor": 0,
  "metadata": {
    "colab": {
      "provenance": [],
      "include_colab_link": true
    },
    "kernelspec": {
      "name": "python3",
      "display_name": "Python 3"
    },
    "language_info": {
      "name": "python"
    }
  },
  "cells": [
    {
      "cell_type": "markdown",
      "metadata": {
        "id": "view-in-github",
        "colab_type": "text"
      },
      "source": [
        "<a href=\"https://colab.research.google.com/github/SilvanaCicchitti/Challenge_2/blob/main/AluraStoreLatam.ipynb\" target=\"_parent\"><img src=\"https://colab.research.google.com/assets/colab-badge.svg\" alt=\"Open In Colab\"/></a>"
      ]
    },
    {
      "cell_type": "markdown",
      "source": [
        "### Importación de datos\n",
        "\n"
      ],
      "metadata": {
        "id": "RhEdWd9YUR6H"
      }
    },
    {
      "cell_type": "code",
      "execution_count": 1,
      "metadata": {
        "colab": {
          "base_uri": "https://localhost:8080/",
          "height": 519
        },
        "id": "T3EvaeQ_INIL",
        "outputId": "d1e0e9c4-2fd4-4dbe-8013-79745640defb"
      },
      "outputs": [
        {
          "output_type": "execute_result",
          "data": {
            "text/plain": [
              "                    Producto  Categoría del Producto     Precio  \\\n",
              "0               Lavavajillas       Electrodomésticos  1084800.0   \n",
              "1                   Cama box                 Muebles   473800.0   \n",
              "2        Balón de baloncesto    Deportes y diversión    23700.0   \n",
              "3        Modelado predictivo                  Libros    57700.0   \n",
              "4                Auriculares            Electrónicos   138900.0   \n",
              "5               Refrigerador       Electrodomésticos  1591900.0   \n",
              "6         Guitarra eléctrica  Instrumentos musicales   626200.0   \n",
              "7  Auriculares con micrófono            Electrónicos    94500.0   \n",
              "8                  Iphone 15            Electrónicos  2339000.0   \n",
              "9              Mesa de noche                 Muebles   273300.0   \n",
              "\n",
              "   Costo de envío Fecha de Compra         Vendedor Lugar de Compra  \\\n",
              "0         56000.0      11/11/2022    Rafael Acosta          Bogotá   \n",
              "1         25400.0      03/01/2020  Izabela de León          Cúcuta   \n",
              "2             0.0      25/12/2022    Maria Alfonso        Medellín   \n",
              "3          1300.0      23/11/2021    Lucas Olivera        Medellín   \n",
              "4          5600.0      25/04/2022   Blanca Ramirez          Bogotá   \n",
              "5         83000.0      30/05/2020  Beatriz Morales       Cartagena   \n",
              "6         38000.0      11/07/2021  Izabela de León        Medellín   \n",
              "7         11900.0      19/02/2022   Santiago Silva        Medellín   \n",
              "8        122700.0      15/10/2022    Camila Rivera          Bogotá   \n",
              "9         21900.0      18/11/2022    Rafael Acosta          Bogotá   \n",
              "\n",
              "   Calificación      Método de pago  Cantidad de cuotas       lat       lon  \n",
              "0             4  Tarjeta de crédito                   3   4.60971 -74.08175  \n",
              "1             5  Tarjeta de crédito                   2   7.89391 -72.50782  \n",
              "2             5               Nequi                   1   6.25184 -75.56359  \n",
              "3             3               Nequi                   1   6.25184 -75.56359  \n",
              "4             4  Tarjeta de crédito                   7   4.60971 -74.08175  \n",
              "5             1  Tarjeta de crédito                  10  10.39972 -75.51444  \n",
              "6             5  Tarjeta de crédito                   1   6.25184 -75.56359  \n",
              "7             4  Tarjeta de crédito                   2   6.25184 -75.56359  \n",
              "8             5  Tarjeta de crédito                   3   4.60971 -74.08175  \n",
              "9             1  Tarjeta de crédito                   3   4.60971 -74.08175  "
            ],
            "text/html": [
              "\n",
              "  <div id=\"df-7e603a67-11df-40fe-be22-df4096045bbe\" class=\"colab-df-container\">\n",
              "    <div>\n",
              "<style scoped>\n",
              "    .dataframe tbody tr th:only-of-type {\n",
              "        vertical-align: middle;\n",
              "    }\n",
              "\n",
              "    .dataframe tbody tr th {\n",
              "        vertical-align: top;\n",
              "    }\n",
              "\n",
              "    .dataframe thead th {\n",
              "        text-align: right;\n",
              "    }\n",
              "</style>\n",
              "<table border=\"1\" class=\"dataframe\">\n",
              "  <thead>\n",
              "    <tr style=\"text-align: right;\">\n",
              "      <th></th>\n",
              "      <th>Producto</th>\n",
              "      <th>Categoría del Producto</th>\n",
              "      <th>Precio</th>\n",
              "      <th>Costo de envío</th>\n",
              "      <th>Fecha de Compra</th>\n",
              "      <th>Vendedor</th>\n",
              "      <th>Lugar de Compra</th>\n",
              "      <th>Calificación</th>\n",
              "      <th>Método de pago</th>\n",
              "      <th>Cantidad de cuotas</th>\n",
              "      <th>lat</th>\n",
              "      <th>lon</th>\n",
              "    </tr>\n",
              "  </thead>\n",
              "  <tbody>\n",
              "    <tr>\n",
              "      <th>0</th>\n",
              "      <td>Lavavajillas</td>\n",
              "      <td>Electrodomésticos</td>\n",
              "      <td>1084800.0</td>\n",
              "      <td>56000.0</td>\n",
              "      <td>11/11/2022</td>\n",
              "      <td>Rafael Acosta</td>\n",
              "      <td>Bogotá</td>\n",
              "      <td>4</td>\n",
              "      <td>Tarjeta de crédito</td>\n",
              "      <td>3</td>\n",
              "      <td>4.60971</td>\n",
              "      <td>-74.08175</td>\n",
              "    </tr>\n",
              "    <tr>\n",
              "      <th>1</th>\n",
              "      <td>Cama box</td>\n",
              "      <td>Muebles</td>\n",
              "      <td>473800.0</td>\n",
              "      <td>25400.0</td>\n",
              "      <td>03/01/2020</td>\n",
              "      <td>Izabela de León</td>\n",
              "      <td>Cúcuta</td>\n",
              "      <td>5</td>\n",
              "      <td>Tarjeta de crédito</td>\n",
              "      <td>2</td>\n",
              "      <td>7.89391</td>\n",
              "      <td>-72.50782</td>\n",
              "    </tr>\n",
              "    <tr>\n",
              "      <th>2</th>\n",
              "      <td>Balón de baloncesto</td>\n",
              "      <td>Deportes y diversión</td>\n",
              "      <td>23700.0</td>\n",
              "      <td>0.0</td>\n",
              "      <td>25/12/2022</td>\n",
              "      <td>Maria Alfonso</td>\n",
              "      <td>Medellín</td>\n",
              "      <td>5</td>\n",
              "      <td>Nequi</td>\n",
              "      <td>1</td>\n",
              "      <td>6.25184</td>\n",
              "      <td>-75.56359</td>\n",
              "    </tr>\n",
              "    <tr>\n",
              "      <th>3</th>\n",
              "      <td>Modelado predictivo</td>\n",
              "      <td>Libros</td>\n",
              "      <td>57700.0</td>\n",
              "      <td>1300.0</td>\n",
              "      <td>23/11/2021</td>\n",
              "      <td>Lucas Olivera</td>\n",
              "      <td>Medellín</td>\n",
              "      <td>3</td>\n",
              "      <td>Nequi</td>\n",
              "      <td>1</td>\n",
              "      <td>6.25184</td>\n",
              "      <td>-75.56359</td>\n",
              "    </tr>\n",
              "    <tr>\n",
              "      <th>4</th>\n",
              "      <td>Auriculares</td>\n",
              "      <td>Electrónicos</td>\n",
              "      <td>138900.0</td>\n",
              "      <td>5600.0</td>\n",
              "      <td>25/04/2022</td>\n",
              "      <td>Blanca Ramirez</td>\n",
              "      <td>Bogotá</td>\n",
              "      <td>4</td>\n",
              "      <td>Tarjeta de crédito</td>\n",
              "      <td>7</td>\n",
              "      <td>4.60971</td>\n",
              "      <td>-74.08175</td>\n",
              "    </tr>\n",
              "    <tr>\n",
              "      <th>5</th>\n",
              "      <td>Refrigerador</td>\n",
              "      <td>Electrodomésticos</td>\n",
              "      <td>1591900.0</td>\n",
              "      <td>83000.0</td>\n",
              "      <td>30/05/2020</td>\n",
              "      <td>Beatriz Morales</td>\n",
              "      <td>Cartagena</td>\n",
              "      <td>1</td>\n",
              "      <td>Tarjeta de crédito</td>\n",
              "      <td>10</td>\n",
              "      <td>10.39972</td>\n",
              "      <td>-75.51444</td>\n",
              "    </tr>\n",
              "    <tr>\n",
              "      <th>6</th>\n",
              "      <td>Guitarra eléctrica</td>\n",
              "      <td>Instrumentos musicales</td>\n",
              "      <td>626200.0</td>\n",
              "      <td>38000.0</td>\n",
              "      <td>11/07/2021</td>\n",
              "      <td>Izabela de León</td>\n",
              "      <td>Medellín</td>\n",
              "      <td>5</td>\n",
              "      <td>Tarjeta de crédito</td>\n",
              "      <td>1</td>\n",
              "      <td>6.25184</td>\n",
              "      <td>-75.56359</td>\n",
              "    </tr>\n",
              "    <tr>\n",
              "      <th>7</th>\n",
              "      <td>Auriculares con micrófono</td>\n",
              "      <td>Electrónicos</td>\n",
              "      <td>94500.0</td>\n",
              "      <td>11900.0</td>\n",
              "      <td>19/02/2022</td>\n",
              "      <td>Santiago Silva</td>\n",
              "      <td>Medellín</td>\n",
              "      <td>4</td>\n",
              "      <td>Tarjeta de crédito</td>\n",
              "      <td>2</td>\n",
              "      <td>6.25184</td>\n",
              "      <td>-75.56359</td>\n",
              "    </tr>\n",
              "    <tr>\n",
              "      <th>8</th>\n",
              "      <td>Iphone 15</td>\n",
              "      <td>Electrónicos</td>\n",
              "      <td>2339000.0</td>\n",
              "      <td>122700.0</td>\n",
              "      <td>15/10/2022</td>\n",
              "      <td>Camila Rivera</td>\n",
              "      <td>Bogotá</td>\n",
              "      <td>5</td>\n",
              "      <td>Tarjeta de crédito</td>\n",
              "      <td>3</td>\n",
              "      <td>4.60971</td>\n",
              "      <td>-74.08175</td>\n",
              "    </tr>\n",
              "    <tr>\n",
              "      <th>9</th>\n",
              "      <td>Mesa de noche</td>\n",
              "      <td>Muebles</td>\n",
              "      <td>273300.0</td>\n",
              "      <td>21900.0</td>\n",
              "      <td>18/11/2022</td>\n",
              "      <td>Rafael Acosta</td>\n",
              "      <td>Bogotá</td>\n",
              "      <td>1</td>\n",
              "      <td>Tarjeta de crédito</td>\n",
              "      <td>3</td>\n",
              "      <td>4.60971</td>\n",
              "      <td>-74.08175</td>\n",
              "    </tr>\n",
              "  </tbody>\n",
              "</table>\n",
              "</div>\n",
              "    <div class=\"colab-df-buttons\">\n",
              "\n",
              "  <div class=\"colab-df-container\">\n",
              "    <button class=\"colab-df-convert\" onclick=\"convertToInteractive('df-7e603a67-11df-40fe-be22-df4096045bbe')\"\n",
              "            title=\"Convert this dataframe to an interactive table.\"\n",
              "            style=\"display:none;\">\n",
              "\n",
              "  <svg xmlns=\"http://www.w3.org/2000/svg\" height=\"24px\" viewBox=\"0 -960 960 960\">\n",
              "    <path d=\"M120-120v-720h720v720H120Zm60-500h600v-160H180v160Zm220 220h160v-160H400v160Zm0 220h160v-160H400v160ZM180-400h160v-160H180v160Zm440 0h160v-160H620v160ZM180-180h160v-160H180v160Zm440 0h160v-160H620v160Z\"/>\n",
              "  </svg>\n",
              "    </button>\n",
              "\n",
              "  <style>\n",
              "    .colab-df-container {\n",
              "      display:flex;\n",
              "      gap: 12px;\n",
              "    }\n",
              "\n",
              "    .colab-df-convert {\n",
              "      background-color: #E8F0FE;\n",
              "      border: none;\n",
              "      border-radius: 50%;\n",
              "      cursor: pointer;\n",
              "      display: none;\n",
              "      fill: #1967D2;\n",
              "      height: 32px;\n",
              "      padding: 0 0 0 0;\n",
              "      width: 32px;\n",
              "    }\n",
              "\n",
              "    .colab-df-convert:hover {\n",
              "      background-color: #E2EBFA;\n",
              "      box-shadow: 0px 1px 2px rgba(60, 64, 67, 0.3), 0px 1px 3px 1px rgba(60, 64, 67, 0.15);\n",
              "      fill: #174EA6;\n",
              "    }\n",
              "\n",
              "    .colab-df-buttons div {\n",
              "      margin-bottom: 4px;\n",
              "    }\n",
              "\n",
              "    [theme=dark] .colab-df-convert {\n",
              "      background-color: #3B4455;\n",
              "      fill: #D2E3FC;\n",
              "    }\n",
              "\n",
              "    [theme=dark] .colab-df-convert:hover {\n",
              "      background-color: #434B5C;\n",
              "      box-shadow: 0px 1px 3px 1px rgba(0, 0, 0, 0.15);\n",
              "      filter: drop-shadow(0px 1px 2px rgba(0, 0, 0, 0.3));\n",
              "      fill: #FFFFFF;\n",
              "    }\n",
              "  </style>\n",
              "\n",
              "    <script>\n",
              "      const buttonEl =\n",
              "        document.querySelector('#df-7e603a67-11df-40fe-be22-df4096045bbe button.colab-df-convert');\n",
              "      buttonEl.style.display =\n",
              "        google.colab.kernel.accessAllowed ? 'block' : 'none';\n",
              "\n",
              "      async function convertToInteractive(key) {\n",
              "        const element = document.querySelector('#df-7e603a67-11df-40fe-be22-df4096045bbe');\n",
              "        const dataTable =\n",
              "          await google.colab.kernel.invokeFunction('convertToInteractive',\n",
              "                                                    [key], {});\n",
              "        if (!dataTable) return;\n",
              "\n",
              "        const docLinkHtml = 'Like what you see? Visit the ' +\n",
              "          '<a target=\"_blank\" href=https://colab.research.google.com/notebooks/data_table.ipynb>data table notebook</a>'\n",
              "          + ' to learn more about interactive tables.';\n",
              "        element.innerHTML = '';\n",
              "        dataTable['output_type'] = 'display_data';\n",
              "        await google.colab.output.renderOutput(dataTable, element);\n",
              "        const docLink = document.createElement('div');\n",
              "        docLink.innerHTML = docLinkHtml;\n",
              "        element.appendChild(docLink);\n",
              "      }\n",
              "    </script>\n",
              "  </div>\n",
              "\n",
              "\n",
              "    <div id=\"df-3780dc81-2959-483c-820a-f6edda376416\">\n",
              "      <button class=\"colab-df-quickchart\" onclick=\"quickchart('df-3780dc81-2959-483c-820a-f6edda376416')\"\n",
              "                title=\"Suggest charts\"\n",
              "                style=\"display:none;\">\n",
              "\n",
              "<svg xmlns=\"http://www.w3.org/2000/svg\" height=\"24px\"viewBox=\"0 0 24 24\"\n",
              "     width=\"24px\">\n",
              "    <g>\n",
              "        <path d=\"M19 3H5c-1.1 0-2 .9-2 2v14c0 1.1.9 2 2 2h14c1.1 0 2-.9 2-2V5c0-1.1-.9-2-2-2zM9 17H7v-7h2v7zm4 0h-2V7h2v10zm4 0h-2v-4h2v4z\"/>\n",
              "    </g>\n",
              "</svg>\n",
              "      </button>\n",
              "\n",
              "<style>\n",
              "  .colab-df-quickchart {\n",
              "      --bg-color: #E8F0FE;\n",
              "      --fill-color: #1967D2;\n",
              "      --hover-bg-color: #E2EBFA;\n",
              "      --hover-fill-color: #174EA6;\n",
              "      --disabled-fill-color: #AAA;\n",
              "      --disabled-bg-color: #DDD;\n",
              "  }\n",
              "\n",
              "  [theme=dark] .colab-df-quickchart {\n",
              "      --bg-color: #3B4455;\n",
              "      --fill-color: #D2E3FC;\n",
              "      --hover-bg-color: #434B5C;\n",
              "      --hover-fill-color: #FFFFFF;\n",
              "      --disabled-bg-color: #3B4455;\n",
              "      --disabled-fill-color: #666;\n",
              "  }\n",
              "\n",
              "  .colab-df-quickchart {\n",
              "    background-color: var(--bg-color);\n",
              "    border: none;\n",
              "    border-radius: 50%;\n",
              "    cursor: pointer;\n",
              "    display: none;\n",
              "    fill: var(--fill-color);\n",
              "    height: 32px;\n",
              "    padding: 0;\n",
              "    width: 32px;\n",
              "  }\n",
              "\n",
              "  .colab-df-quickchart:hover {\n",
              "    background-color: var(--hover-bg-color);\n",
              "    box-shadow: 0 1px 2px rgba(60, 64, 67, 0.3), 0 1px 3px 1px rgba(60, 64, 67, 0.15);\n",
              "    fill: var(--button-hover-fill-color);\n",
              "  }\n",
              "\n",
              "  .colab-df-quickchart-complete:disabled,\n",
              "  .colab-df-quickchart-complete:disabled:hover {\n",
              "    background-color: var(--disabled-bg-color);\n",
              "    fill: var(--disabled-fill-color);\n",
              "    box-shadow: none;\n",
              "  }\n",
              "\n",
              "  .colab-df-spinner {\n",
              "    border: 2px solid var(--fill-color);\n",
              "    border-color: transparent;\n",
              "    border-bottom-color: var(--fill-color);\n",
              "    animation:\n",
              "      spin 1s steps(1) infinite;\n",
              "  }\n",
              "\n",
              "  @keyframes spin {\n",
              "    0% {\n",
              "      border-color: transparent;\n",
              "      border-bottom-color: var(--fill-color);\n",
              "      border-left-color: var(--fill-color);\n",
              "    }\n",
              "    20% {\n",
              "      border-color: transparent;\n",
              "      border-left-color: var(--fill-color);\n",
              "      border-top-color: var(--fill-color);\n",
              "    }\n",
              "    30% {\n",
              "      border-color: transparent;\n",
              "      border-left-color: var(--fill-color);\n",
              "      border-top-color: var(--fill-color);\n",
              "      border-right-color: var(--fill-color);\n",
              "    }\n",
              "    40% {\n",
              "      border-color: transparent;\n",
              "      border-right-color: var(--fill-color);\n",
              "      border-top-color: var(--fill-color);\n",
              "    }\n",
              "    60% {\n",
              "      border-color: transparent;\n",
              "      border-right-color: var(--fill-color);\n",
              "    }\n",
              "    80% {\n",
              "      border-color: transparent;\n",
              "      border-right-color: var(--fill-color);\n",
              "      border-bottom-color: var(--fill-color);\n",
              "    }\n",
              "    90% {\n",
              "      border-color: transparent;\n",
              "      border-bottom-color: var(--fill-color);\n",
              "    }\n",
              "  }\n",
              "</style>\n",
              "\n",
              "      <script>\n",
              "        async function quickchart(key) {\n",
              "          const quickchartButtonEl =\n",
              "            document.querySelector('#' + key + ' button');\n",
              "          quickchartButtonEl.disabled = true;  // To prevent multiple clicks.\n",
              "          quickchartButtonEl.classList.add('colab-df-spinner');\n",
              "          try {\n",
              "            const charts = await google.colab.kernel.invokeFunction(\n",
              "                'suggestCharts', [key], {});\n",
              "          } catch (error) {\n",
              "            console.error('Error during call to suggestCharts:', error);\n",
              "          }\n",
              "          quickchartButtonEl.classList.remove('colab-df-spinner');\n",
              "          quickchartButtonEl.classList.add('colab-df-quickchart-complete');\n",
              "        }\n",
              "        (() => {\n",
              "          let quickchartButtonEl =\n",
              "            document.querySelector('#df-3780dc81-2959-483c-820a-f6edda376416 button');\n",
              "          quickchartButtonEl.style.display =\n",
              "            google.colab.kernel.accessAllowed ? 'block' : 'none';\n",
              "        })();\n",
              "      </script>\n",
              "    </div>\n",
              "\n",
              "    </div>\n",
              "  </div>\n"
            ],
            "application/vnd.google.colaboratory.intrinsic+json": {
              "type": "dataframe",
              "variable_name": "tienda4",
              "summary": "{\n  \"name\": \"tienda4\",\n  \"rows\": 2358,\n  \"fields\": [\n    {\n      \"column\": \"Producto\",\n      \"properties\": {\n        \"dtype\": \"category\",\n        \"num_unique_values\": 51,\n        \"samples\": [\n          \"Microondas\",\n          \"Set de ollas\",\n          \"Lavadora de ropa\"\n        ],\n        \"semantic_type\": \"\",\n        \"description\": \"\"\n      }\n    },\n    {\n      \"column\": \"Categor\\u00eda del Producto\",\n      \"properties\": {\n        \"dtype\": \"category\",\n        \"num_unique_values\": 8,\n        \"samples\": [\n          \"Muebles\",\n          \"Instrumentos musicales\",\n          \"Electrodom\\u00e9sticos\"\n        ],\n        \"semantic_type\": \"\",\n        \"description\": \"\"\n      }\n    },\n    {\n      \"column\": \"Precio\",\n      \"properties\": {\n        \"dtype\": \"number\",\n        \"std\": 568755.6039486045,\n        \"min\": 7600.0,\n        \"max\": 2902200.0,\n        \"num_unique_values\": 1867,\n        \"samples\": [\n          2151200.0,\n          738300.0,\n          35700.0\n        ],\n        \"semantic_type\": \"\",\n        \"description\": \"\"\n      }\n    },\n    {\n      \"column\": \"Costo de env\\u00edo\",\n      \"properties\": {\n        \"dtype\": \"number\",\n        \"std\": 30279.100835978752,\n        \"min\": 0.0,\n        \"max\": 154700.0,\n        \"num_unique_values\": 692,\n        \"samples\": [\n          73000.0,\n          21300.0,\n          48400.0\n        ],\n        \"semantic_type\": \"\",\n        \"description\": \"\"\n      }\n    },\n    {\n      \"column\": \"Fecha de Compra\",\n      \"properties\": {\n        \"dtype\": \"category\",\n        \"num_unique_values\": 1030,\n        \"samples\": [\n          \"12/06/2022\",\n          \"18/04/2021\",\n          \"24/12/2020\"\n        ],\n        \"semantic_type\": \"\",\n        \"description\": \"\"\n      }\n    },\n    {\n      \"column\": \"Vendedor\",\n      \"properties\": {\n        \"dtype\": \"category\",\n        \"num_unique_values\": 14,\n        \"samples\": [\n          \"Pedro Gomez\",\n          \"Mariana Herrera\",\n          \"Rafael Acosta\"\n        ],\n        \"semantic_type\": \"\",\n        \"description\": \"\"\n      }\n    },\n    {\n      \"column\": \"Lugar de Compra\",\n      \"properties\": {\n        \"dtype\": \"category\",\n        \"num_unique_values\": 19,\n        \"samples\": [\n          \"Bogot\\u00e1\",\n          \"Leticia\",\n          \"Barranquilla\"\n        ],\n        \"semantic_type\": \"\",\n        \"description\": \"\"\n      }\n    },\n    {\n      \"column\": \"Calificaci\\u00f3n\",\n      \"properties\": {\n        \"dtype\": \"number\",\n        \"std\": 1,\n        \"min\": 1,\n        \"max\": 5,\n        \"num_unique_values\": 5,\n        \"samples\": [\n          5,\n          2,\n          3\n        ],\n        \"semantic_type\": \"\",\n        \"description\": \"\"\n      }\n    },\n    {\n      \"column\": \"M\\u00e9todo de pago\",\n      \"properties\": {\n        \"dtype\": \"category\",\n        \"num_unique_values\": 4,\n        \"samples\": [\n          \"Nequi\",\n          \"Tarjeta de d\\u00e9bito\",\n          \"Tarjeta de cr\\u00e9dito\"\n        ],\n        \"semantic_type\": \"\",\n        \"description\": \"\"\n      }\n    },\n    {\n      \"column\": \"Cantidad de cuotas\",\n      \"properties\": {\n        \"dtype\": \"number\",\n        \"std\": 2,\n        \"min\": 1,\n        \"max\": 18,\n        \"num_unique_values\": 13,\n        \"samples\": [\n          18,\n          9,\n          3\n        ],\n        \"semantic_type\": \"\",\n        \"description\": \"\"\n      }\n    },\n    {\n      \"column\": \"lat\",\n      \"properties\": {\n        \"dtype\": \"number\",\n        \"std\": 2.37672825841418,\n        \"min\": -4.21528,\n        \"max\": 11.54444,\n        \"num_unique_values\": 19,\n        \"samples\": [\n          4.60971,\n          -4.21528,\n          10.96854\n        ],\n        \"semantic_type\": \"\",\n        \"description\": \"\"\n      }\n    },\n    {\n      \"column\": \"lon\",\n      \"properties\": {\n        \"dtype\": \"number\",\n        \"std\": 1.1997491363183892,\n        \"min\": -77.28111,\n        \"max\": -67.9239,\n        \"num_unique_values\": 19,\n        \"samples\": [\n          -74.08175,\n          -69.94056,\n          -74.78132\n        ],\n        \"semantic_type\": \"\",\n        \"description\": \"\"\n      }\n    }\n  ]\n}"
            }
          },
          "metadata": {},
          "execution_count": 1
        }
      ],
      "source": [
        "import pandas as pd\n",
        "\n",
        "url = \"https://raw.githubusercontent.com/alura-es-cursos/challenge1-data-science-latam/refs/heads/main/base-de-datos-challenge1-latam/tienda_1%20.csv\"\n",
        "url2 = \"https://raw.githubusercontent.com/alura-es-cursos/challenge1-data-science-latam/refs/heads/main/base-de-datos-challenge1-latam/tienda_2.csv\"\n",
        "url3 = \"https://raw.githubusercontent.com/alura-es-cursos/challenge1-data-science-latam/refs/heads/main/base-de-datos-challenge1-latam/tienda_3.csv\"\n",
        "url4 = \"https://raw.githubusercontent.com/alura-es-cursos/challenge1-data-science-latam/refs/heads/main/base-de-datos-challenge1-latam/tienda_4.csv\"\n",
        "\n",
        "tienda = pd.read_csv(url)\n",
        "tienda2 = pd.read_csv(url2)\n",
        "tienda3 = pd.read_csv(url3)\n",
        "tienda4 = pd.read_csv(url4)\n",
        "\n",
        "tienda4.head(10)"
      ]
    },
    {
      "cell_type": "markdown",
      "source": [
        "#Consigna\n",
        "\n",
        "¡Bienvenidos al primer desafío!\n",
        "\n",
        "Durante este desafío, ayudarás al Sr. Juan a decidir qué tienda de su cadena Alura Store debe vender para iniciar un nuevo emprendimiento. Para ello, analizarás datos de ventas, rendimiento y reseñas de las 4 tiendas de Alura Store. El objetivo es identificar la tienda menos eficiente y presentar una recomendación final basada en los datos.\n",
        "\n",
        "Lo que practicarás:\n",
        "\n",
        "Cargue y manipule datos CSV con la biblioteca Pandas.\n",
        "\n",
        "Cree visualizaciones de datos con la biblioteca Matplotlib.\n",
        "\n",
        "Analice métricas como ingresos, reseñas y rendimiento de ventas.\n",
        "\n",
        "Requisitos:\n",
        "\n",
        "Analizar datos de la tienda:\n",
        "\n",
        "Debes evaluar información como los ingresos, las categorías más vendidas, las reseñas de los clientes, los productos más vendidos y el envío promedio.\n",
        "\n",
        "\n",
        "\n",
        "Crear gráficos para visualización:\n",
        "\n",
        "Decide qué tipos de gráficos utilizar para presentar los resultados de forma clara y visual.\n",
        "\n",
        "Mínimo de 3 gráficos diferentes, que pueden incluir gráficos de barras, circulares, de dispersión y otros.\n",
        "\n",
        "\n",
        "\n",
        "Enviar una recomendación:\n",
        "\n",
        "Después del análisis, escriba un texto explicando a qué tienda debería vender el Sr. João y por qué, basándose en los datos presentados."
      ],
      "metadata": {
        "id": "7dPs-gug6eYE"
      }
    },
    {
      "cell_type": "markdown",
      "source": [
        "Antes de pasar a análisis detallados, es esencial explorar el conjunto de datos para comprender su estructura y contenido. Este paso le permite identificar patrones, inconsistencias y las columnas más relevantes para los siguientes pasos.\n",
        "\n",
        "Estructura de datos:\n",
        "El conjunto de datos incluye la siguiente información:\n",
        "\n",
        "Producto y Categoría: Artículos vendidos y sus calificaciones.\n",
        "\n",
        "Precio y Envío: Valores de venta y costos asociados.\n",
        "\n",
        "Fecha y ubicación de compra: Información temporal y geográfica.\n",
        "\n",
        "Evaluación de compra: Comentarios de clientes.\n",
        "\n",
        "Tipo de Pago y Cuotas: Métodos utilizados por los clientes.\n",
        "\n",
        "Coordenadas Geográficas: Ubicación de las transacciones."
      ],
      "metadata": {
        "id": "WEPRGXft7Dy0"
      }
    },
    {
      "cell_type": "markdown",
      "source": [
        "#1. Análisis de facturación\n",
        "\n"
      ],
      "metadata": {
        "id": "X62IW3KFUIYm"
      }
    },
    {
      "cell_type": "markdown",
      "source": [
        "**Ingreso total por cada tienda**\n",
        "En este primer análisis, debes calcular el ingreso total de cada tienda. Sumando los valores de la columna Precio de cada conjunto de datos de la tienda para estimar los ingresos."
      ],
      "metadata": {
        "id": "OrBHMeha7kYk"
      }
    },
    {
      "cell_type": "code",
      "source": [
        "ingreso1= tienda['Precio'].sum()\n",
        "ingreso2= tienda2['Precio'].sum()\n",
        "ingreso3= tienda3['Precio'].sum()\n",
        "ingreso4= tienda4['Precio'].sum()\n",
        "\n",
        "print(f\"[Tienda 1]Ingreso total : ${ingreso1:,.2f}\")\n",
        "print(f\"[Tienda 2]Ingreso total : ${ingreso2:,.2f}\")\n",
        "print(f\"[Tienda 3]Ingreso total : ${ingreso3:,.2f}\")\n",
        "print(f\"[Tienda 4]Ingreso total : ${ingreso4:,.2f}\")\n"
      ],
      "metadata": {
        "colab": {
          "base_uri": "https://localhost:8080/"
        },
        "id": "vjv6r_ZL6d6m",
        "outputId": "013971b1-af05-4a9c-e7ad-ea064c33255c"
      },
      "execution_count": 20,
      "outputs": [
        {
          "output_type": "stream",
          "name": "stdout",
          "text": [
            "[Tienda 1]Ingreso total : $1,150,880,400.00\n",
            "[Tienda 2]Ingreso total : $1,116,343,500.00\n",
            "[Tienda 3]Ingreso total : $1,098,019,600.00\n",
            "[Tienda 4]Ingreso total : $1,038,375,700.00\n"
          ]
        }
      ]
    },
    {
      "cell_type": "code",
      "source": [],
      "metadata": {
        "id": "KDyr8E71V3m-"
      },
      "execution_count": null,
      "outputs": []
    },
    {
      "cell_type": "markdown",
      "source": [
        "# 2. Ventas por categoría"
      ],
      "metadata": {
        "id": "2V_vcAPzWZmR"
      }
    },
    {
      "cell_type": "markdown",
      "source": [
        "En este debes calcular la cantidad de productos vendidos por categoría en cada tienda. La idea es agrupar los datos por categoría y contar el número de ventas de cada tipo, mostrando las categorías más populares de cada tienda."
      ],
      "metadata": {
        "id": "0A7Poe9MDR8y"
      }
    },
    {
      "cell_type": "code",
      "source": [
        "cantidad_productos1 = tienda['Categoría del Producto'].value_counts()\n",
        "cantidad_productos2 = tienda2['Categoría del Producto'].value_counts()\n",
        "cantidad_productos3 = tienda3['Categoría del Producto'].value_counts()\n",
        "cantidad_productos4 = tienda4['Categoría del Producto'].value_counts()\n",
        "\n",
        "print('[Tienda 1]',cantidad_productos1)\n",
        "print('[Tienda 2]',cantidad_productos2)\n",
        "print('[Tienda 3]',cantidad_productos3)\n",
        "print('[Tienda 4]',cantidad_productos4)"
      ],
      "metadata": {
        "id": "A34YupIuYhfF",
        "colab": {
          "base_uri": "https://localhost:8080/"
        },
        "outputId": "6a4b0dd1-20e4-480b-aacb-ed17dc4379bf"
      },
      "execution_count": 3,
      "outputs": [
        {
          "output_type": "stream",
          "name": "stdout",
          "text": [
            "[Tienda 1] Categoría del Producto\n",
            "Muebles                    465\n",
            "Electrónicos               448\n",
            "Juguetes                   324\n",
            "Electrodomésticos          312\n",
            "Deportes y diversión       284\n",
            "Instrumentos musicales     182\n",
            "Libros                     173\n",
            "Artículos para el hogar    171\n",
            "Name: count, dtype: int64\n",
            "[Tienda 2] Categoría del Producto\n",
            "Muebles                    442\n",
            "Electrónicos               422\n",
            "Juguetes                   313\n",
            "Electrodomésticos          305\n",
            "Deportes y diversión       275\n",
            "Instrumentos musicales     224\n",
            "Libros                     197\n",
            "Artículos para el hogar    181\n",
            "Name: count, dtype: int64\n",
            "[Tienda 3] Categoría del Producto\n",
            "Muebles                    499\n",
            "Electrónicos               451\n",
            "Juguetes                   315\n",
            "Electrodomésticos          278\n",
            "Deportes y diversión       277\n",
            "Libros                     185\n",
            "Instrumentos musicales     177\n",
            "Artículos para el hogar    177\n",
            "Name: count, dtype: int64\n",
            "[Tienda 4] Categoría del Producto\n",
            "Muebles                    480\n",
            "Electrónicos               451\n",
            "Juguetes                   338\n",
            "Deportes y diversión       277\n",
            "Electrodomésticos          254\n",
            "Artículos para el hogar    201\n",
            "Libros                     187\n",
            "Instrumentos musicales     170\n",
            "Name: count, dtype: int64\n"
          ]
        }
      ]
    },
    {
      "cell_type": "markdown",
      "source": [
        "# 3. Calificación promedio de la tienda\n"
      ],
      "metadata": {
        "id": "Rq6tU_xSY3jk"
      }
    },
    {
      "cell_type": "markdown",
      "source": [
        "En este paso, debes calcular las calificaciones promedio de los clientes para cada tienda. El objetivo es conocer la satisfacción del cliente con los productos vendidos."
      ],
      "metadata": {
        "id": "S7sG4d-MTPQi"
      }
    },
    {
      "cell_type": "code",
      "source": [
        "calificacion_promedio= round(tienda['Calificación'].mean(),2)\n",
        "calificacion_promedio2= round(tienda2['Calificación'].mean(),2)\n",
        "calificacion_promedio3= round(tienda3['Calificación'].mean(),2)\n",
        "calificacion_promedio4= round(tienda4['Calificación'].mean(),2)\n",
        "print('[Tienda 1] Calificación promedio: ',calificacion_promedio)\n",
        "print('[Tienda 2] Calificación promedio: ',calificacion_promedio2)\n",
        "print('[Tienda 3] Calificación promedio: ',calificacion_promedio3)\n",
        "print('[Tienda 4] Calificación promedio: ',calificacion_promedio4)"
      ],
      "metadata": {
        "id": "I0KkjPoTY88F",
        "colab": {
          "base_uri": "https://localhost:8080/"
        },
        "outputId": "6e1eaf9d-8461-4ef4-d467-7e1a5a37313e"
      },
      "execution_count": 4,
      "outputs": [
        {
          "output_type": "stream",
          "name": "stdout",
          "text": [
            "[Tienda 1] Calificación promedio:  3.98\n",
            "[Tienda 2] Calificación promedio:  4.04\n",
            "[Tienda 3] Calificación promedio:  4.05\n",
            "[Tienda 4] Calificación promedio:  4.0\n"
          ]
        }
      ]
    },
    {
      "cell_type": "markdown",
      "source": [
        "# 4. Productos más y menos vendidos"
      ],
      "metadata": {
        "id": "DmNp1KPBZCm-"
      }
    },
    {
      "cell_type": "markdown",
      "source": [
        "En este paso, debes identificar qué productos fueron los más vendidos y los menos vendidos en cada tienda. Visualiza los resultados para que quede claro qué productos destacaron en ventas en cada tienda."
      ],
      "metadata": {
        "id": "i3tfAKBWKwc5"
      }
    },
    {
      "cell_type": "code",
      "source": [
        "top3_tienda1 = tienda['Producto'].value_counts().head(3)\n",
        "top3_tienda2 = tienda2['Producto'].value_counts().head(3)\n",
        "top3_tienda3 = tienda3['Producto'].value_counts().head(3)\n",
        "top3_tienda4 = tienda4['Producto'].value_counts().head(3)\n",
        "print('[Tienda 1] Productos más vendidos: ',top3_tienda1)\n",
        "print('[Tienda 2] Productos más vendidos: ',top3_tienda2)\n",
        "print('[Tienda 3] Productos más vendidos: ',top3_tienda3)\n",
        "print('[Tienda 4] Productos más vendidos: ',top3_tienda4)"
      ],
      "metadata": {
        "id": "qoyjqijQZHfF",
        "colab": {
          "base_uri": "https://localhost:8080/"
        },
        "outputId": "971e30c8-daf9-490a-b08f-685dd03278d1"
      },
      "execution_count": 5,
      "outputs": [
        {
          "output_type": "stream",
          "name": "stdout",
          "text": [
            "[Tienda 1] Productos más vendidos:  Producto\n",
            "Microondas       60\n",
            "TV LED UHD 4K    60\n",
            "Armario          60\n",
            "Name: count, dtype: int64\n",
            "[Tienda 2] Productos más vendidos:  Producto\n",
            "Iniciando en programación    65\n",
            "Microondas                   62\n",
            "Batería                      61\n",
            "Name: count, dtype: int64\n",
            "[Tienda 3] Productos más vendidos:  Producto\n",
            "Kit de bancas      57\n",
            "Mesa de comedor    56\n",
            "Cama king          56\n",
            "Name: count, dtype: int64\n",
            "[Tienda 4] Productos más vendidos:  Producto\n",
            "Cama box                   62\n",
            "Cubertería                 59\n",
            "Dashboards con Power BI    56\n",
            "Name: count, dtype: int64\n"
          ]
        }
      ]
    },
    {
      "cell_type": "code",
      "source": [
        "menos_vendidos_tienda1 = tienda['Producto'].value_counts().tail(3)\n",
        "menos_vendidos_tienda2 = tienda2['Producto'].value_counts().tail(3)\n",
        "menos_vendidos_tienda3 = tienda3['Producto'].value_counts().tail(3)\n",
        "menos_vendidos_tienda4 = tienda4['Producto'].value_counts().tail(3)\n",
        "print('[Tienda 1] Productos menos vendidos: ',menos_vendidos_tienda1)\n",
        "print('[Tienda 2] Productos menos vendidos: ',menos_vendidos_tienda2)\n",
        "print('[Tienda 3] Productos menos vendidos: ',menos_vendidos_tienda3)\n",
        "print('[Tienda 4] Productos menos vendidos: ',menos_vendidos_tienda4)"
      ],
      "metadata": {
        "id": "0Sw3sd4IZIGW",
        "colab": {
          "base_uri": "https://localhost:8080/"
        },
        "outputId": "7e32cc14-4412-4e86-d48d-79880d97a978"
      },
      "execution_count": 6,
      "outputs": [
        {
          "output_type": "stream",
          "name": "stdout",
          "text": [
            "[Tienda 1] Productos menos vendidos:  Producto\n",
            "Olla de presión              35\n",
            "Auriculares con micrófono    33\n",
            "Celular ABXY                 33\n",
            "Name: count, dtype: int64\n",
            "[Tienda 2] Productos menos vendidos:  Producto\n",
            "Mesa de comedor    34\n",
            "Impresora          34\n",
            "Juego de mesa      32\n",
            "Name: count, dtype: int64\n",
            "[Tienda 3] Productos menos vendidos:  Producto\n",
            "Mochila                    36\n",
            "Microondas                 36\n",
            "Bloques de construcción    35\n",
            "Name: count, dtype: int64\n",
            "[Tienda 4] Productos menos vendidos:  Producto\n",
            "Guitarra acústica     37\n",
            "Armario               34\n",
            "Guitarra eléctrica    33\n",
            "Name: count, dtype: int64\n"
          ]
        }
      ]
    },
    {
      "cell_type": "markdown",
      "source": [
        "# 5. Envío promedio por tienda"
      ],
      "metadata": {
        "id": "Fl0cGi3bZKqU"
      }
    },
    {
      "cell_type": "markdown",
      "source": [
        "En este paso, debes calcular el costo de envío promedio para cada tienda. El objetivo es comprender cuánto se gasta, en promedio, en el envío de cada tienda."
      ],
      "metadata": {
        "id": "jCM3YCbqPJBb"
      }
    },
    {
      "cell_type": "code",
      "source": [
        "costo_envio_tienda1 = round(tienda['Costo de envío'].mean(),2)\n",
        "costo_envio_tienda2 = round(tienda2['Costo de envío'].mean(),2)\n",
        "costo_envio_tienda3 = round(tienda3['Costo de envío'].mean(),2)\n",
        "costo_envio_tienda4 = round(tienda4['Costo de envío'].mean(),2)\n",
        "print(f\"[Tienda 1]Promedio envío : ${costo_envio_tienda1:,.2f}\")\n",
        "print(f\"[Tienda 2]Promedio envío : ${costo_envio_tienda2:,.2f}\")\n",
        "print(f\"[Tienda 3]Promedio envío : ${costo_envio_tienda3:,.2f}\")\n",
        "print(f\"[Tienda 4]Promedio envío : ${costo_envio_tienda4:,.2f}\")\n"
      ],
      "metadata": {
        "id": "S2JeaCykZNy9",
        "colab": {
          "base_uri": "https://localhost:8080/"
        },
        "outputId": "87ac5226-5add-4ece-917c-8f407cb10c6e"
      },
      "execution_count": 7,
      "outputs": [
        {
          "output_type": "stream",
          "name": "stdout",
          "text": [
            "[Tienda 1]Promedio envío : $26,018.61\n",
            "[Tienda 2]Promedio envío : $25,216.24\n",
            "[Tienda 3]Promedio envío : $24,805.68\n",
            "[Tienda 4]Promedio envío : $23,459.46\n"
          ]
        }
      ]
    },
    {
      "cell_type": "code",
      "source": [],
      "metadata": {
        "id": "0tSdCie9ZQlt"
      },
      "execution_count": null,
      "outputs": []
    },
    {
      "cell_type": "markdown",
      "source": [
        "#Gráficos\n",
        "\n",
        "Después de realizar los análisis, es hora de transformar sus resultados en visualizaciones que le ayuden a comprender mejor los patrones y los insights encontrados.\n",
        "\n",
        "De acuerdo con funciones que haya creado, le recomendamos que genere al menos tres gráficos. Estos gráficos deben ser de diferentes tipos (como barras, líneas, dispersión, entre otros) para presentar una visión completa de los datos.\n",
        "\n",
        "Recuerde que los gráficos deben complementar el análisis realizado, resaltando los puntos más relevantes, como los ingresos de la tienda, la distribución de categorías de productos, las opiniones de los clientes, los productos más vendidos y/o los costes de envío.\n",
        "\n",
        "No es necesario mostrar una visualización en cada paso, pero al final del análisis debes generar los gráficos que consideres más útiles para interpretar los datos.\n",
        "\n",
        "Consejo: Matplotlib ofrece una variedad de tipos de gráficos que son fáciles de implementar, lo que lo convierte en una excelente opción para principiantes. Utilice su creatividad para elegir los gráficos que mejor resalten las tendencias y los conocimientos de su análisis."
      ],
      "metadata": {
        "id": "_36YieN2STJm"
      }
    },
    {
      "cell_type": "code",
      "source": [
        "import matplotlib.pyplot as plt"
      ],
      "metadata": {
        "id": "YNR27VawSWEm"
      },
      "execution_count": 8,
      "outputs": []
    },
    {
      "cell_type": "code",
      "source": [
        "fig, ax = plt.subplots()\n",
        "\n",
        "tiendas = ['Tienda 1', 'Tienda 2', 'Tienda 3', 'Tienda 4']\n",
        "counts = [ingreso1, ingreso2, ingreso3, ingreso4]\n",
        "bar_labels = ['Tienda 1', 'Tienda 2', 'Tienda 3', 'Tienda 4']\n",
        "bar_colors = ['tab:red', 'tab:blue', 'tab:blue', 'tab:orange']\n",
        "\n",
        "ax.bar(tiendas, counts, label=bar_labels, color=bar_colors)\n",
        "ax.set_ylabel(' $ Pesos en millones')\n",
        "ax.set_title('Total ventas por local')\n",
        "#ax.legend(title='Tiendas')\n",
        "\n",
        "plt.show()"
      ],
      "metadata": {
        "id": "JT1EjBguQTyG",
        "outputId": "2bfb13b4-d184-44bb-9afb-2c1e4613e4cf",
        "colab": {
          "base_uri": "https://localhost:8080/",
          "height": 452
        }
      },
      "execution_count": 29,
      "outputs": [
        {
          "output_type": "display_data",
          "data": {
            "text/plain": [
              "<Figure size 640x480 with 1 Axes>"
            ],
            "image/png": "[encoded data removed]"
          },
          "metadata": {}
        }
      ]
    },
    {
      "cell_type": "code",
      "source": [],
      "metadata": {
        "id": "ajNDebOfQefE"
      },
      "execution_count": null,
      "outputs": []
    }
  ]
}